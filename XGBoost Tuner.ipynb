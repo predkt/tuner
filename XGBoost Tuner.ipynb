{
 "cells": [
  {
   "cell_type": "code",
   "execution_count": 1,
   "metadata": {},
   "outputs": [
    {
     "name": "stdout",
     "output_type": "stream",
     "text": [
      "Once deleted, variables cannot be recovered. Proceed (y/[n])? y\n"
     ]
    }
   ],
   "source": [
    "%reset"
   ]
  },
  {
   "cell_type": "code",
   "execution_count": 3,
   "metadata": {},
   "outputs": [],
   "source": [
    "# standard libraries and classes\n",
    "import os\n",
    "import sys\n",
    "import time\n",
    "import string\n",
    "import logging\n",
    "import cProfile\n",
    "import pstats\n",
    "import pprint\n",
    "import collections\n",
    "\n",
    "from os import walk\n",
    "from io import StringIO\n",
    "\n",
    "# third party imports\n",
    "import matplotlib.pyplot as plt\n",
    "import numpy as np\n",
    "import pandas as pd\n",
    "import xgboost as xgb\n",
    "import seaborn as sns\n",
    "\n",
    "\n",
    "# frequently used classes\n",
    "\n",
    "from sklearn.model_selection import GridSearchCV\n",
    "from sklearn.metrics import log_loss, accuracy_score, precision_score, recall_score, roc_auc_score\n",
    "from IPython.core.debugger import Tracer\n",
    "from IPython.display import display, Image\n",
    "from functools import wraps\n",
    "from datetime import datetime as dt\n",
    "from pandas import DataFrame\n",
    "from xgboost.sklearn import XGBClassifier\n",
    "from scipy.stats import randint, uniform\n",
    "from six.moves import cPickle as pickle\n",
    "#from __future__ import print_function\n",
    "\n",
    "\n",
    "# custom imports and settings\n",
    "\n",
    "import helper_functions as hf\n",
    "%reload_ext autoreload\n",
    "%autoreload 2\n",
    "%reload_ext version_information\n",
    "%matplotlib inline\n",
    "version_list = %version_information numpy, scipy, matplotlib, pandas, scikit-learn, xgboost, tensorflow\n",
    "version_list_html= hf.dict_to_html(version_list.__dict__['packages'])\n",
    "plt.rcParams['figure.figsize'] = (20,10)"
   ]
  },
  {
   "cell_type": "code",
   "execution_count": 4,
   "metadata": {
    "collapsed": true
   },
   "outputs": [],
   "source": [
    "# run_pickle = hf.pickler('runpickles/20170905/run_20170905153659')\n",
    "# pprint.pprint(run_pickle)\n",
    "# context = run_pickle['run context']"
   ]
  },
  {
   "cell_type": "code",
   "execution_count": 5,
   "metadata": {},
   "outputs": [
    {
     "data": {
      "text/plain": [
       "{'log path': 'logs/20170912/',\n",
       " 'model path': 'savedmodels/20170912/',\n",
       " 'modelpickles': 'savedmodels/20170912/pickled_20170912214951',\n",
       " 'pickle': 'runpickles/20170912/run_20170912214951',\n",
       " 'plot path': 'plots/20170912/run_214951/',\n",
       " 'run date': '20170912',\n",
       " 'run time': '214951',\n",
       " 'runprofiles path': 'runprofiles/20170912/',\n",
       " 'stats path': 'stats/20170912/',\n",
       " 'statsfile': 'stats/20170912/stats_20170912214951',\n",
       " 'summary': 'runprofiles/20170912/summary_20170912214951.txt'}"
      ]
     },
     "execution_count": 5,
     "metadata": {},
     "output_type": "execute_result"
    }
   ],
   "source": [
    "context = hf.fetch_paths()\n",
    "pickled = hf.pickler(context['pickle'], context, 'run context')\n",
    "hf.objects_growth(context['summary'], 'Beginning Heap')\n",
    "hf.write_dict({'Installed Versions':version_list.__dict__['packages']}, context['summary'], 'Software Versions')\n",
    "hf.write_dict(context, context['summary'], 'Run time Context')\n",
    "\n",
    "#profiler = cProfile.Profile()\n"
   ]
  },
  {
   "cell_type": "code",
   "execution_count": 19,
   "metadata": {},
   "outputs": [],
   "source": [
    "load_stats ={}\n",
    "\n",
    "size = 50\n",
    "image_size =28\n",
    "num_labels =  10\n",
    "\n",
    "data_pickle_path = '../../../tensorflow/tensorflow/examples/udacity/notMNIST.pickle'\n",
    "\n",
    "with open(data_pickle_path, 'rb') as f:\n",
    "    data = pickle.load(f)\n",
    "\n",
    "train_dataset = data['train_dataset']\n",
    "length = train_dataset.shape[0]\n",
    "train_dataset = train_dataset.reshape(length, image_size*image_size)\n",
    "\n",
    "valid_dataset = data['valid_dataset']\n",
    "length = valid_dataset.shape[0]\n",
    "valid_dataset = valid_dataset.reshape(length, image_size*image_size)\n",
    "\n",
    "test_dataset = data['test_dataset']\n",
    "length = valid_dataset.shape[0]\n",
    "test_dataset = test_dataset.reshape(length, image_size*image_size)\n",
    "\n",
    "valid_labels = data['valid_labels']\n",
    "train_labels = data['train_labels']\n",
    "test_labels = data['test_labels']\n",
    "\n",
    "#be nice to your RAM\n",
    "del data\n",
    "\n",
    "load_stats.update({'training dataset': train_dataset.shape})\n",
    "load_stats.update({'training labels': train_labels.shape})\n",
    "load_stats.update({'validations dataset': valid_dataset.shape})\n",
    "load_stats.update({'validation labels': valid_labels.shape})\n",
    "load_stats.update({'test dataset': test_dataset.shape})\n",
    "load_stats.update({'test labels': test_labels.shape})\n",
    "\n",
    "############## WRITE TO SUMMARY FILE\n",
    "hf.write_dict(load_stats, context['summary'],'Dataset Details')\n",
    "\n",
    "datasets = [train_dataset, valid_dataset, test_dataset]\n",
    "labels = [train_labels, valid_labels, test_labels]\n",
    "\n",
    "trial_datasets = [valid_dataset, test_dataset, valid_dataset]\n",
    "trial_labels = [valid_labels, test_labels, valid_labels]\n",
    "\n",
    "test_datasets =[]\n",
    "test_labels =[]"
   ]
  },
  {
   "cell_type": "code",
   "execution_count": 20,
   "metadata": {
    "collapsed": true
   },
   "outputs": [],
   "source": [
    "tree_tuner = XGBClassifier(\n",
    "                        learning_rate = 0.5,\n",
    "                        n_estimators = 600,\n",
    "                        max_depth = 2,\n",
    "                        min_child_weight=1,\n",
    "                        gamma = 0,\n",
    "                        subsample = 0.3,\n",
    "                        colsample_bytree = 0.3,\n",
    "                        objective= 'multi:softmax',\n",
    "                        #num_class=10,\n",
    "                        #n_jobs=-1,\n",
    "                        #scale_pos_weight=0,\n",
    "                        seed=27)"
   ]
  },
  {
   "cell_type": "code",
   "execution_count": 24,
   "metadata": {
    "scrolled": true
   },
   "outputs": [
    {
     "name": "stdout",
     "output_type": "stream",
     "text": [
      "\n",
      "Model Report\n",
      "Accuracy : 0.89400\n",
      "Optimal Boosters : 63\n"
     ]
    },
    {
     "data": {
      "image/png": "[encoded data removed]",
      "text/plain": [
       "<matplotlib.figure.Figure at 0x7fd337e721d0>"
      ]
     },
     "metadata": {},
     "output_type": "display_data"
    }
   ],
   "source": [
    "initial_result = hf.modelfit(tree_tuner, trial_datasets, trial_labels, context, 'merror', num_labels = num_labels, cv_folds=2)\n"
   ]
  },
  {
   "cell_type": "code",
   "execution_count": 29,
   "metadata": {},
   "outputs": [
    {
     "name": "stdout",
     "output_type": "stream",
     "text": [
      "0.9564\n"
     ]
    }
   ],
   "source": [
    "#Score on the test dataset\n",
    "pickled = hf.pickler(context['modelpickles'])\n",
    "#pprint.pprint(pickled)\n",
    "xgboosted = pickled['model']\n",
    "predicted = xgboosted.predict(test_dataset)\n",
    "pre_accuracy = accuracy_score(test_labels, predicted)\n",
    "hf.write_dict({' Test Accuracy:': pre_accuracy }, context['summary'],'Accuracy before tuning')\n",
    "print(pre_accuracy)"
   ]
  },
  {
   "cell_type": "code",
   "execution_count": 33,
   "metadata": {
    "collapsed": true
   },
   "outputs": [],
   "source": [
    "## TUNER PARAMETERS\n",
    "\n",
    "# set ranges for parameters to be tuned by GridSearch. Includes upper limit\n",
    "allowed_ranges = {\n",
    "    'colsample_bylevel': [0,1],\n",
    "    'colsample_bytree': [0,1],\n",
    "    'gamma': [0,1],\n",
    "    'learning_rate': [0,1],\n",
    "    #'max_delta_step': 0,\n",
    "    'max_depth': [1,10],\n",
    "    'min_child_weight': [1,10],\n",
    "    #'missing': None,\n",
    "    #'reg_alpha': [0,100],\n",
    "    'reg_lambda': [1,10],\n",
    "    'scale_pos_weight': [1,5],\n",
    "    'subsample': [0,1]}\n",
    "\n",
    "# set magnitude of steps to traverse while fine-tuning grid search\n",
    "steps = {\n",
    "    'colsample_bylevel': 0.05,\n",
    "    'colsample_bytree': 0.05,\n",
    "    'gamma': 0.1,\n",
    "    'learning_rate': 0.01,\n",
    "    #'max_delta_step': 0,\n",
    "    'max_depth': 1,\n",
    "    'min_child_weight': 1,\n",
    "    #'missing': None,\n",
    "    #'reg_alpha': [0,100],\n",
    "    'reg_lambda': 0.25,\n",
    "    'scale_pos_weight': 1,\n",
    "    'subsample': 0.05}"
   ]
  },
  {
   "cell_type": "code",
   "execution_count": null,
   "metadata": {
    "collapsed": true
   },
   "outputs": [],
   "source": [
    "tuning_rounds =10\n",
    "tuner_params =[{'max_depth':[3,7], 'min_child_weight':[3,7]},\n",
    "            {'gamma':[.2,.5,.8]},\n",
    "            {'subsample':[.3,.7], 'colsample_bytree':[.3,.7]},\n",
    "            {'reg_lambda':[2,5,8] }]\n",
    "\n",
    "for i in range(len(tuner_params)):\n",
    "    final_result = tuner_cv(train_dataset, train_labels, valid_dataset, valid_labels, \n",
    "                            tuner_params[i], tuning_rounds, context, cv=5)       "
   ]
  },
  {
   "cell_type": "code",
   "execution_count": null,
   "metadata": {
    "collapsed": true
   },
   "outputs": [],
   "source": []
  },
  {
   "cell_type": "code",
   "execution_count": null,
   "metadata": {
    "collapsed": true
   },
   "outputs": [],
   "source": []
  },
  {
   "cell_type": "code",
   "execution_count": null,
   "metadata": {
    "collapsed": true
   },
   "outputs": [],
   "source": []
  },
  {
   "cell_type": "code",
   "execution_count": null,
   "metadata": {
    "collapsed": true
   },
   "outputs": [],
   "source": []
  },
  {
   "cell_type": "code",
   "execution_count": null,
   "metadata": {
    "collapsed": true
   },
   "outputs": [],
   "source": []
  },
  {
   "cell_type": "code",
   "execution_count": null,
   "metadata": {
    "collapsed": true
   },
   "outputs": [],
   "source": []
  },
  {
   "cell_type": "code",
   "execution_count": null,
   "metadata": {
    "collapsed": true
   },
   "outputs": [],
   "source": []
  },
  {
   "cell_type": "code",
   "execution_count": null,
   "metadata": {
    "collapsed": true
   },
   "outputs": [],
   "source": []
  },
  {
   "cell_type": "code",
   "execution_count": null,
   "metadata": {
    "collapsed": true
   },
   "outputs": [],
   "source": []
  },
  {
   "cell_type": "code",
   "execution_count": null,
   "metadata": {
    "collapsed": true
   },
   "outputs": [],
   "source": []
  },
  {
   "cell_type": "code",
   "execution_count": null,
   "metadata": {
    "collapsed": true
   },
   "outputs": [],
   "source": []
  },
  {
   "cell_type": "code",
   "execution_count": null,
   "metadata": {
    "collapsed": true
   },
   "outputs": [],
   "source": []
  },
  {
   "cell_type": "code",
   "execution_count": null,
   "metadata": {
    "collapsed": true
   },
   "outputs": [],
   "source": []
  },
  {
   "cell_type": "code",
   "execution_count": null,
   "metadata": {
    "collapsed": true
   },
   "outputs": [],
   "source": []
  },
  {
   "cell_type": "code",
   "execution_count": null,
   "metadata": {
    "collapsed": true
   },
   "outputs": [],
   "source": []
  },
  {
   "cell_type": "code",
   "execution_count": null,
   "metadata": {
    "collapsed": true
   },
   "outputs": [],
   "source": []
  },
  {
   "cell_type": "code",
   "execution_count": null,
   "metadata": {
    "collapsed": true
   },
   "outputs": [],
   "source": []
  },
  {
   "cell_type": "code",
   "execution_count": null,
   "metadata": {
    "collapsed": true
   },
   "outputs": [],
   "source": []
  },
  {
   "cell_type": "code",
   "execution_count": null,
   "metadata": {
    "collapsed": true
   },
   "outputs": [],
   "source": []
  },
  {
   "cell_type": "code",
   "execution_count": null,
   "metadata": {
    "collapsed": true
   },
   "outputs": [],
   "source": []
  },
  {
   "cell_type": "code",
   "execution_count": null,
   "metadata": {
    "collapsed": true
   },
   "outputs": [],
   "source": [
    "# Now tune reg_alpha\n",
    "best_alpha ={}\n",
    "pickled = hf.pickler(context['pickle'])\n",
    "parameters = pickled['optimal parameters']\n",
    "param_test = {'reg_alpha':[0, 0.001, 0.005, 0.01, 0.05] }\n",
    "\n",
    "estimator = XGBClassifier(**parameters)\n",
    "\n",
    "gsearch_alpha = GridSearchCV(estimator = estimator, \n",
    "                        param_grid = param_test, \n",
    "                        scoring= 'accuracy',\n",
    "                        n_jobs= -1,\n",
    "                        cv= 5)\n",
    "optimal_alpha = gsearch_alpha.fit(train_dataset,train_labels)\n",
    "\n",
    "#print('Best parameter', optimal_alpha.best_params_, 'CV Accuracy: ', optimal_alpha.best_score_)\n",
    "# Update the parameters list with best scoring parameter\n",
    "parameters.update({k: optimal_alpha.best_params_[k] for k in optimal_alpha.best_params_})\n",
    "\n",
    "\n",
    "# Update the pickle\n",
    "updated_pickle = hf.pickler(context['pickle'], parameters, 'optimal parameters')\n",
    "\n",
    "# Write to summary file\n",
    "best_alpha.update({'Chosen:':str(optimal_alpha.best_params_) + ' CV Score:' + str(optimal_alpha.best_score_)})   \n",
    "hf.write_dict(best_alpha, context['summary'],'alpha Grid Search Result')"
   ]
  },
  {
   "cell_type": "code",
   "execution_count": null,
   "metadata": {
    "collapsed": true
   },
   "outputs": [],
   "source": [
    "# Now lower learning rate and find optimal number of boosters\n",
    "pickled = hf.pickler(context['pickle'])\n",
    "parameters = pickled['optimal parameters']\n",
    "parameters.update({'n_estimators': 5000})\n",
    "parameters.update({'learning_rate': 0.01})\n",
    "\n",
    "final_tuner = tree_tuner = XGBClassifier(**parameters)\n",
    "\n",
    "optimal_model = hf.modelfit(final_tuner,train_dataset,train_labels,valid_dataset,valid_labels, \n",
    "                            context, 'merror', num_labels =num_labels, cv_folds=5)\n",
    "\n"
   ]
  },
  {
   "cell_type": "code",
   "execution_count": 32,
   "metadata": {
    "collapsed": true
   },
   "outputs": [],
   "source": [
    "def tuner_cv(train_set, train_labels, val_set, val_labels, param_test, tuning_rounds, context, scoring ='accuracy', cv = 3, val_tuned =True):\n",
    "    pickled = hf.pickler(context['pickle'])\n",
    "    parameters = pickled['optimal parameters']\n",
    "    \n",
    "    tuning_results_params ={}\n",
    "    tuning_results_accuracy ={}\n",
    "    tuning_validation_accuracy ={}\n",
    "    rounds_to_tune = tuning_rounds\n",
    "\n",
    "    current_tuning_round = 0\n",
    "    estimator = XGBClassifier(**parameters)\n",
    "\n",
    "    tuned = False\n",
    "    param_test = param_test\n",
    "    seen = param_test\n",
    "\n",
    "\n",
    "    while not tuned:\n",
    "    \n",
    "        loop_result =()\n",
    "        \n",
    "        #update seen with parameters already tested\n",
    "        seen = { k:  seen[k] + param_test[k]  for k in seen }\n",
    "        seen = { k:  hf.remove_duplicates(seen[k]) for k in seen }\n",
    "        \n",
    "        # Remove the duplicates\n",
    "        #seen = list(set(seen))\n",
    "    \n",
    "        gsearch = GridSearchCV(estimator = estimator, \n",
    "                        param_grid = param_test, \n",
    "                        scoring= scoring,\n",
    "                        n_jobs= -1,\n",
    "                        cv= cv)\n",
    "\n",
    "        loop_result = gsearch.fit(train_set, train_labels)\n",
    "        \n",
    "        # score on the validation dataset\n",
    "        loop_result_val = loop_result.score(val_set, val_labels)\n",
    "\n",
    "        tuning_results_params.update({'iter'+str(current_tuning_round): loop_result.best_params_ })\n",
    "        tuning_results_accuracy.update({'iter'+str(current_tuning_round): loop_result.best_score_ })\n",
    "        tuning_validation_accuracy.update({'iter'+str(current_tuning_round): loop_result_val })\n",
    "    \n",
    "        print('Current Iteration ', loop_result.best_params_ , ' CV Accuracy ', loop_result.best_score_, ' Validation Accuracy ', loop_result_val)\n",
    "    \n",
    "    \n",
    "        current_tuning_round = current_tuning_round + 1\n",
    "    \n",
    "        param_test = hf.extend_param_dict(loop_result.best_params_, steps, allowed_ranges, seen)\n",
    "        print(\"Extended List :\", param_test)\n",
    "        print('-------------------------------')\n",
    "    \n",
    "        #convert result dict values into list for comparison\n",
    "        best_params_list ={k: [loop_result.best_params_ [k]] for k in loop_result.best_params_ }\n",
    "        if param_test == best_params_list : tuned = True\n",
    "        if current_tuning_round == rounds_to_tune:  tuned = True\n",
    "    \n",
    "\n",
    "    \n",
    "    ##END WHILE TUNED  \n",
    "    hf.write_dict(seen, context['summary'],'Tested Values')\n",
    "\n",
    "    #prepare dict for writing to file\n",
    "    tuner_results_summary ={key: str(tuning_results_params[key]) + '  CV Accuracy: ' + str(tuning_results_accuracy[key]) + '  Validation Accuracy: ' + str(tuning_validation_accuracy[key]) for key in tuning_results_params.keys() }\n",
    "\n",
    "    #compute the highest  CV accuracy \n",
    "    max_accuracy_key =max(tuning_results_accuracy, key=lambda key: tuning_results_accuracy[key])  \n",
    "    \n",
    "    #compute the highest Validation accuracy \n",
    "    if val_tuned: max_accuracy_key =max(tuning_validation_accuracy, key=lambda key: tuning_validation_accuracy[key])  \n",
    "\n",
    "    \n",
    "    # use CV accuracy for tuning\n",
    "    #tuning_results_params[max_accuracy_key]\n",
    "    \n",
    "    # use Validation accuracy for traiing\n",
    "    tuning_results_params[max_accuracy_key]\n",
    "\n",
    "    #pprint.pprint(tuner_results_summary)\n",
    "    hf.write_dict(tuner_results_summary, context['summary'], 'Tuning Iterations')\n",
    "    hf.write_dict({'Chosen:': str(tuning_results_params[max_accuracy_key]) + ' CV Accuracy: ' + str(tuning_results_accuracy[max_accuracy_key]) + ' Validation Accuracy: ' + str(tuning_validation_accuracy[max_accuracy_key])}, context['summary'])\n",
    "    \n",
    "\n",
    "    # Get the optimal parameters from the run\n",
    "    \n",
    "    # use Validation accuracy\n",
    "    params_to_update = tuning_results_params[max_accuracy_key]\n",
    "\n",
    "    # Update the parameters list with the new updated values for the params tested\n",
    "    parameters.update({k: params_to_update[k] for k in params_to_update.keys()})\n",
    "\n",
    "    # Update the pickle\n",
    "    updated_pickle = hf.pickler(context['pickle'], parameters, 'optimal parameters')\n",
    "    \n",
    "    "
   ]
  },
  {
   "cell_type": "code",
   "execution_count": null,
   "metadata": {
    "collapsed": true
   },
   "outputs": [],
   "source": [
    "#Score on the test dataset\n",
    "pickled = hf.pickler(context['modelpickles'])\n",
    "xgboosted = pickled['model']\n",
    "predicted = xgboosted.predict(test_dataset)\n",
    "post_accuracy = accuracy_score(test_labels, predicted)\n",
    "hf.write_dict({' Test Accuracy:': post_accuracy }, context['summary'],'Accuracy after tuning')"
   ]
  },
  {
   "cell_type": "code",
   "execution_count": null,
   "metadata": {
    "collapsed": true
   },
   "outputs": [],
   "source": [
    "#End Heap\n",
    "hf.objects_growth(context['summary'], 'End Heap')\n",
    "\n",
    "pickled = hf.pickler(context['pickle'])\n",
    "\n",
    "attachments = []\n",
    "for (dirpath, dirnames, filenames) in walk(pickled['run context']['plot path']):\n",
    "    for f in filenames:\n",
    "        file_path = str(pickled['run context']['plot path'] + f)\n",
    "        attachments.append(file_path)\n",
    "    break\n",
    "\n",
    "# add summary file to list of attachments\n",
    "attachments.append(context['summary'])\n",
    "\n",
    "\n",
    "# compose summary and send via email\n",
    "subject = 'Pre: ' + str(pre_accuracy) + ' Post: ' + str(post_accuracy)\n",
    "\n",
    "body = pprint.pformat(pickled)\n",
    "\n",
    "\n",
    "hf.send_email(subject, '<pre>' + pprint.pformat(pickled) + '</pre>', version_list_html,attachments, context)\n"
   ]
  },
  {
   "cell_type": "code",
   "execution_count": null,
   "metadata": {
    "collapsed": true
   },
   "outputs": [],
   "source": []
  },
  {
   "cell_type": "code",
   "execution_count": null,
   "metadata": {
    "collapsed": true
   },
   "outputs": [],
   "source": []
  },
  {
   "cell_type": "code",
   "execution_count": null,
   "metadata": {
    "collapsed": true
   },
   "outputs": [],
   "source": []
  },
  {
   "cell_type": "code",
   "execution_count": null,
   "metadata": {
    "collapsed": true
   },
   "outputs": [],
   "source": []
  },
  {
   "cell_type": "code",
   "execution_count": null,
   "metadata": {
    "collapsed": true
   },
   "outputs": [],
   "source": []
  },
  {
   "cell_type": "code",
   "execution_count": null,
   "metadata": {
    "collapsed": true
   },
   "outputs": [],
   "source": []
  },
  {
   "cell_type": "code",
   "execution_count": null,
   "metadata": {
    "collapsed": true
   },
   "outputs": [],
   "source": []
  },
  {
   "cell_type": "code",
   "execution_count": null,
   "metadata": {
    "collapsed": true
   },
   "outputs": [],
   "source": []
  },
  {
   "cell_type": "code",
   "execution_count": null,
   "metadata": {
    "collapsed": true
   },
   "outputs": [],
   "source": []
  },
  {
   "cell_type": "code",
   "execution_count": null,
   "metadata": {
    "collapsed": true
   },
   "outputs": [],
   "source": []
  },
  {
   "cell_type": "code",
   "execution_count": null,
   "metadata": {
    "collapsed": true
   },
   "outputs": [],
   "source": []
  },
  {
   "cell_type": "code",
   "execution_count": null,
   "metadata": {
    "collapsed": true
   },
   "outputs": [],
   "source": []
  },
  {
   "cell_type": "code",
   "execution_count": null,
   "metadata": {
    "collapsed": true
   },
   "outputs": [],
   "source": []
  },
  {
   "cell_type": "code",
   "execution_count": null,
   "metadata": {
    "collapsed": true
   },
   "outputs": [],
   "source": [
    "#target_args =(tree_tuner, test_dataset, test_labels, context)\n",
    "\n",
    "#profiler.enable()\n",
    "#% time hf.measure_memory_usage(context, hf.modelfit, target_args)\n",
    "#profiler.disable()\n",
    "#profiler.dump_stats(context['statsfile'])\n",
    "#summary = hf.save_summary(context, context['statsfile'])\n",
    "\n",
    "#run_result = hf.modelfit(tree_tuner,valid_dataset,valid_labels, context)\n",
    "\n",
    "#hf.objects_growth(context['summary'], 'End Heap')"
   ]
  },
  {
   "cell_type": "code",
   "execution_count": 26,
   "metadata": {},
   "outputs": [
    {
     "name": "stdout",
     "output_type": "stream",
     "text": [
      "{'mean_fit_time': array([ 448.20962679,  454.74889612,  511.33337224,  459.93994939,\n",
      "        509.09787917,  469.27203584]),\n",
      " 'mean_score_time': array([ 2.1885829 ,  2.08873379,  2.11020541,  1.93952501,  0.66561127,\n",
      "        1.65475237]),\n",
      " 'mean_test_score': array([ 0.8303,  0.8268,  0.8322,  0.8274,  0.8325,  0.8299]),\n",
      " 'mean_train_score': array([ 0.9994,  0.9994,  0.9994,  0.9994,  0.9994,  0.9994]),\n",
      " 'param_max_depth': masked_array(data = [2 2 5 5 8 8],\n",
      "             mask = [False False False False False False],\n",
      "       fill_value = ?)\n",
      ",\n",
      " 'param_min_child_weight': masked_array(data = [2 5 2 5 2 5],\n",
      "             mask = [False False False False False False],\n",
      "       fill_value = ?)\n",
      ",\n",
      " 'params': ({'max_depth': 2, 'min_child_weight': 2},\n",
      "            {'max_depth': 2, 'min_child_weight': 5},\n",
      "            {'max_depth': 5, 'min_child_weight': 2},\n",
      "            {'max_depth': 5, 'min_child_weight': 5},\n",
      "            {'max_depth': 8, 'min_child_weight': 2},\n",
      "            {'max_depth': 8, 'min_child_weight': 5}),\n",
      " 'rank_test_score': array([3, 6, 2, 5, 1, 4], dtype=int32),\n",
      " 'split0_test_score': array([ 0.8352,  0.8324,  0.8374,  0.8322,  0.838 ,  0.8364]),\n",
      " 'split0_train_score': array([ 0.9994,  0.9994,  0.9994,  0.9994,  0.9994,  0.9994]),\n",
      " 'split1_test_score': array([ 0.8254,  0.8212,  0.827 ,  0.8226,  0.827 ,  0.8234]),\n",
      " 'split1_train_score': array([ 0.9994,  0.9994,  0.9994,  0.9994,  0.9994,  0.9994]),\n",
      " 'std_fit_time': array([ 27.08038723,   2.88283229,   5.1487838 ,   0.72069991,\n",
      "         3.52536392,   0.24035358]),\n",
      " 'std_score_time': array([ 0.01330519,  0.01855981,  0.09366679,  0.06897938,  0.24655271,\n",
      "        0.32286775]),\n",
      " 'std_test_score': array([ 0.0049,  0.0056,  0.0052,  0.0048,  0.0055,  0.0065]),\n",
      " 'std_train_score': array([ 0.,  0.,  0.,  0.,  0.,  0.])}\n"
     ]
    }
   ],
   "source": [
    "pprint.pprint(result.cv_results_)"
   ]
  },
  {
   "cell_type": "code",
   "execution_count": 33,
   "metadata": {},
   "outputs": [
    {
     "data": {
      "image/png": "[encoded data removed]",
      "text/plain": [
       "<matplotlib.figure.Figure at 0x7fef54412908>"
      ]
     },
     "metadata": {},
     "output_type": "display_data"
    }
   ],
   "source": [
    "def plot_grid_search(cv_results, grid_param_1, grid_param_2, name_param_1, name_param_2):\n",
    "\n",
    "    # Get Test Scores Mean and std for each grid search\n",
    "    scores_mean = cv_results['mean_test_score']\n",
    "    scores_mean = np.array(scores_mean).reshape(len(grid_param_2),len(grid_param_1))\n",
    "\n",
    "    scores_sd = cv_results['std_test_score']\n",
    "    scores_sd = np.array(scores_sd).reshape(len(grid_param_2),len(grid_param_1))\n",
    "\n",
    "    # Plot Grid search scores\n",
    "    _, ax = plt.subplots(1,1)\n",
    "\n",
    "    # Param1 is the X-axis, Param 2 is represented as a different curve (color line)\n",
    "    for idx, val in enumerate(grid_param_2):\n",
    "        ax.plot(grid_param_1, scores_mean[idx,:], '-o', label= name_param_2 + ': ' + str(val))\n",
    "\n",
    "    ax.set_title(\"Grid Search Scores\", fontsize=20, fontweight='bold')\n",
    "    ax.set_xlabel(name_param_1, fontsize=16)\n",
    "    ax.set_ylabel('CV Average Score', fontsize=16)\n",
    "    ax.legend(loc=\"best\", fontsize=15)\n",
    "    ax.grid('on')\n",
    "\n"
   ]
  },
  {
   "cell_type": "code",
   "execution_count": null,
   "metadata": {
    "collapsed": true
   },
   "outputs": [],
   "source": [
    "\n",
    "plot_grid_search(result.cv_results_, param_test['max_depth'], param_test['min_child_weight'], 'max depth', 'min child weight')"
   ]
  },
  {
   "cell_type": "code",
   "execution_count": null,
   "metadata": {
    "collapsed": true
   },
   "outputs": [],
   "source": []
  }
 ],
 "metadata": {
  "kernelspec": {
   "display_name": "Python 3",
   "language": "python",
   "name": "python3"
  },
  "language_info": {
   "codemirror_mode": {
    "name": "ipython",
    "version": 3
   },
   "file_extension": ".py",
   "mimetype": "text/x-python",
   "name": "python",
   "nbconvert_exporter": "python",
   "pygments_lexer": "ipython3",
   "version": "3.5.3"
  }
 },
 "nbformat": 4,
 "nbformat_minor": 2
}
